{
 "cells": [
  {
   "cell_type": "code",
   "execution_count": 41,
   "metadata": {},
   "outputs": [],
   "source": [
    "import numpy as np\n",
    "import random\n",
    "import pandas as pd\n",
    "from matplotlib import pyplot as plt"
   ]
  },
  {
   "cell_type": "markdown",
   "metadata": {},
   "source": [
    "## SIMULATION"
   ]
  },
  {
   "cell_type": "code",
   "execution_count": 82,
   "metadata": {},
   "outputs": [],
   "source": [
    "table_results = []"
   ]
  },
  {
   "cell_type": "code",
   "execution_count": 83,
   "metadata": {},
   "outputs": [
    {
     "name": "stdout",
     "output_type": "stream",
     "text": [
      "14.6042\n",
      "96.7419\n",
      "74.9603\n",
      "14.676\n",
      "48.9432\n",
      "37.569\n",
      "14.7276\n",
      "32.7241\n",
      "25.1017\n",
      "14.9199\n",
      "24.5996\n",
      "18.828\n",
      "14.9503\n",
      "19.8819\n",
      "15.0856\n"
     ]
    }
   ],
   "source": [
    "for p_om in [.1, .2, .3, .4, .5]:\n",
    "    robot_position = 0\n",
    "    obj_position = np.random.choice(range(10,20))\n",
    "    robot_mvmts = np.array([0,1])\n",
    "    obj_mvmts = np.array([-1,0,1])\n",
    "    obj_mvmt_probs = np.array([p_om, 1-2*p_om, p_om])\n",
    "    robot_mvmt_probs = np.array([1-1.5*p_om, 1.5*p_om])\n",
    "\n",
    "    # strategy 1\n",
    "    stg_1_times = []\n",
    "    for sim_count in range(10000):\n",
    "        time_count = 0\n",
    "        while robot_position < obj_position:\n",
    "            robot_position += 1\n",
    "            obj_position +=  np.random.choice(obj_mvmts, 1,p=obj_mvmt_probs)[0]\n",
    "            time_count += 1\n",
    "        robot_position = 0\n",
    "        obj_position = np.random.choice(range(10,20))\n",
    "        stg_1_times.append(time_count)\n",
    "    print(sum(stg_1_times)/len(stg_1_times))\n",
    "    table_results.append(['Stg_1', p_om,sum(stg_1_times) ])   \n",
    "\n",
    "    # strategy 2\n",
    "    stg_2_times = []\n",
    "    for sim_count in range(10000):\n",
    "        time_count = 0\n",
    "        while robot_position < obj_position:\n",
    "            robot_position += np.random.choice(robot_mvmts, 1,p=robot_mvmt_probs)[0]\n",
    "            obj_position +=  np.random.choice(obj_mvmts, 1,p=[p_om, 1-2*p_om, p_om])[0]\n",
    "            time_count += 1\n",
    "        robot_position = 0\n",
    "        obj_position = np.random.choice(range(10,20))\n",
    "        stg_2_times.append(time_count)\n",
    "    print(sum(stg_2_times)/len(stg_2_times))\n",
    "    table_results.append(['Stg_2', p_om,sum(stg_2_times) ])   \n",
    "    \n",
    "    # strategy 3\n",
    "    stg_3_times = []\n",
    "    for sim_count in range(10000):\n",
    "        time_count = 0\n",
    "        while robot_position < obj_position:\n",
    "            obj_movement = np.random.choice([-1,0,1], 1,p=[p_om, 1-2*p_om, p_om])[0]\n",
    "            obj_position += obj_movement\n",
    "            robot_position += abs(obj_movement)\n",
    "            time_count += 1\n",
    "        robot_position = 0\n",
    "        obj_position = np.random.choice(range(10,20))\n",
    "        stg_3_times.append(time_count)\n",
    "    print(sum(stg_3_times)/len(stg_3_times))\n",
    "    table_results.append(['Stg_3', p_om,sum(stg_3_times) ])   \n",
    "    \n"
   ]
  },
  {
   "cell_type": "code",
   "execution_count": 84,
   "metadata": {},
   "outputs": [],
   "source": [
    "table_results = pd.DataFrame(table_results, columns= ['Strategy', 'P_OM', 'Total Time'])"
   ]
  },
  {
   "cell_type": "code",
   "execution_count": 85,
   "metadata": {},
   "outputs": [],
   "source": [
    "table_results['Iterations'] = 10000"
   ]
  },
  {
   "cell_type": "code",
   "execution_count": 86,
   "metadata": {},
   "outputs": [],
   "source": [
    "table_results['Exp'] = table_results['Total Time']/table_results['Iterations']"
   ]
  },
  {
   "cell_type": "code",
   "execution_count": 87,
   "metadata": {},
   "outputs": [],
   "source": [
    "table_results.to_excel('sim_v1_results.xlsx')"
   ]
  },
  {
   "cell_type": "code",
   "execution_count": 88,
   "metadata": {},
   "outputs": [
    {
     "data": {
      "text/html": [
       "<div>\n",
       "<style scoped>\n",
       "    .dataframe tbody tr th:only-of-type {\n",
       "        vertical-align: middle;\n",
       "    }\n",
       "\n",
       "    .dataframe tbody tr th {\n",
       "        vertical-align: top;\n",
       "    }\n",
       "\n",
       "    .dataframe thead th {\n",
       "        text-align: right;\n",
       "    }\n",
       "</style>\n",
       "<table border=\"1\" class=\"dataframe\">\n",
       "  <thead>\n",
       "    <tr style=\"text-align: right;\">\n",
       "      <th></th>\n",
       "      <th>Strategy</th>\n",
       "      <th>P_OM</th>\n",
       "      <th>Total Time</th>\n",
       "      <th>Iterations</th>\n",
       "      <th>Exp</th>\n",
       "    </tr>\n",
       "  </thead>\n",
       "  <tbody>\n",
       "    <tr>\n",
       "      <th>0</th>\n",
       "      <td>Stg_1</td>\n",
       "      <td>0.1</td>\n",
       "      <td>146042</td>\n",
       "      <td>10000</td>\n",
       "      <td>14.6042</td>\n",
       "    </tr>\n",
       "    <tr>\n",
       "      <th>1</th>\n",
       "      <td>Stg_2</td>\n",
       "      <td>0.1</td>\n",
       "      <td>967419</td>\n",
       "      <td>10000</td>\n",
       "      <td>96.7419</td>\n",
       "    </tr>\n",
       "    <tr>\n",
       "      <th>2</th>\n",
       "      <td>Stg_3</td>\n",
       "      <td>0.1</td>\n",
       "      <td>749603</td>\n",
       "      <td>10000</td>\n",
       "      <td>74.9603</td>\n",
       "    </tr>\n",
       "    <tr>\n",
       "      <th>3</th>\n",
       "      <td>Stg_1</td>\n",
       "      <td>0.2</td>\n",
       "      <td>146760</td>\n",
       "      <td>10000</td>\n",
       "      <td>14.6760</td>\n",
       "    </tr>\n",
       "    <tr>\n",
       "      <th>4</th>\n",
       "      <td>Stg_2</td>\n",
       "      <td>0.2</td>\n",
       "      <td>489432</td>\n",
       "      <td>10000</td>\n",
       "      <td>48.9432</td>\n",
       "    </tr>\n",
       "    <tr>\n",
       "      <th>5</th>\n",
       "      <td>Stg_3</td>\n",
       "      <td>0.2</td>\n",
       "      <td>375690</td>\n",
       "      <td>10000</td>\n",
       "      <td>37.5690</td>\n",
       "    </tr>\n",
       "    <tr>\n",
       "      <th>6</th>\n",
       "      <td>Stg_1</td>\n",
       "      <td>0.3</td>\n",
       "      <td>147276</td>\n",
       "      <td>10000</td>\n",
       "      <td>14.7276</td>\n",
       "    </tr>\n",
       "    <tr>\n",
       "      <th>7</th>\n",
       "      <td>Stg_2</td>\n",
       "      <td>0.3</td>\n",
       "      <td>327241</td>\n",
       "      <td>10000</td>\n",
       "      <td>32.7241</td>\n",
       "    </tr>\n",
       "    <tr>\n",
       "      <th>8</th>\n",
       "      <td>Stg_3</td>\n",
       "      <td>0.3</td>\n",
       "      <td>251017</td>\n",
       "      <td>10000</td>\n",
       "      <td>25.1017</td>\n",
       "    </tr>\n",
       "    <tr>\n",
       "      <th>9</th>\n",
       "      <td>Stg_1</td>\n",
       "      <td>0.4</td>\n",
       "      <td>149199</td>\n",
       "      <td>10000</td>\n",
       "      <td>14.9199</td>\n",
       "    </tr>\n",
       "    <tr>\n",
       "      <th>10</th>\n",
       "      <td>Stg_2</td>\n",
       "      <td>0.4</td>\n",
       "      <td>245996</td>\n",
       "      <td>10000</td>\n",
       "      <td>24.5996</td>\n",
       "    </tr>\n",
       "    <tr>\n",
       "      <th>11</th>\n",
       "      <td>Stg_3</td>\n",
       "      <td>0.4</td>\n",
       "      <td>188280</td>\n",
       "      <td>10000</td>\n",
       "      <td>18.8280</td>\n",
       "    </tr>\n",
       "    <tr>\n",
       "      <th>12</th>\n",
       "      <td>Stg_1</td>\n",
       "      <td>0.5</td>\n",
       "      <td>149503</td>\n",
       "      <td>10000</td>\n",
       "      <td>14.9503</td>\n",
       "    </tr>\n",
       "    <tr>\n",
       "      <th>13</th>\n",
       "      <td>Stg_2</td>\n",
       "      <td>0.5</td>\n",
       "      <td>198819</td>\n",
       "      <td>10000</td>\n",
       "      <td>19.8819</td>\n",
       "    </tr>\n",
       "    <tr>\n",
       "      <th>14</th>\n",
       "      <td>Stg_3</td>\n",
       "      <td>0.5</td>\n",
       "      <td>150856</td>\n",
       "      <td>10000</td>\n",
       "      <td>15.0856</td>\n",
       "    </tr>\n",
       "  </tbody>\n",
       "</table>\n",
       "</div>"
      ],
      "text/plain": [
       "   Strategy  P_OM  Total Time  Iterations      Exp\n",
       "0     Stg_1   0.1      146042       10000  14.6042\n",
       "1     Stg_2   0.1      967419       10000  96.7419\n",
       "2     Stg_3   0.1      749603       10000  74.9603\n",
       "3     Stg_1   0.2      146760       10000  14.6760\n",
       "4     Stg_2   0.2      489432       10000  48.9432\n",
       "5     Stg_3   0.2      375690       10000  37.5690\n",
       "6     Stg_1   0.3      147276       10000  14.7276\n",
       "7     Stg_2   0.3      327241       10000  32.7241\n",
       "8     Stg_3   0.3      251017       10000  25.1017\n",
       "9     Stg_1   0.4      149199       10000  14.9199\n",
       "10    Stg_2   0.4      245996       10000  24.5996\n",
       "11    Stg_3   0.4      188280       10000  18.8280\n",
       "12    Stg_1   0.5      149503       10000  14.9503\n",
       "13    Stg_2   0.5      198819       10000  19.8819\n",
       "14    Stg_3   0.5      150856       10000  15.0856"
      ]
     },
     "execution_count": 88,
     "metadata": {},
     "output_type": "execute_result"
    }
   ],
   "source": [
    "table_results"
   ]
  },
  {
   "cell_type": "code",
   "execution_count": 473,
   "metadata": {},
   "outputs": [
    {
     "ename": "KeyboardInterrupt",
     "evalue": "",
     "output_type": "error",
     "traceback": [
      "\u001b[1;31m---------------------------------------------------------------------------\u001b[0m",
      "\u001b[1;31mKeyboardInterrupt\u001b[0m                         Traceback (most recent call last)",
      "\u001b[1;32m<ipython-input-473-f35077ef9656>\u001b[0m in \u001b[0;36m<module>\u001b[1;34m\u001b[0m\n\u001b[0;32m     15\u001b[0m         \u001b[0mfly_position\u001b[0m \u001b[1;33m=\u001b[0m \u001b[0mnp\u001b[0m\u001b[1;33m.\u001b[0m\u001b[0mrandom\u001b[0m\u001b[1;33m.\u001b[0m\u001b[0mchoice\u001b[0m\u001b[1;33m(\u001b[0m\u001b[0mrange\u001b[0m\u001b[1;33m(\u001b[0m\u001b[1;36m10\u001b[0m\u001b[1;33m,\u001b[0m\u001b[1;36m20\u001b[0m\u001b[1;33m)\u001b[0m\u001b[1;33m)\u001b[0m\u001b[1;33m\u001b[0m\u001b[1;33m\u001b[0m\u001b[0m\n\u001b[0;32m     16\u001b[0m         \u001b[1;32mwhile\u001b[0m \u001b[0mrobot_position\u001b[0m \u001b[1;33m<\u001b[0m \u001b[0mfly_position\u001b[0m\u001b[1;33m:\u001b[0m\u001b[1;33m\u001b[0m\u001b[1;33m\u001b[0m\u001b[0m\n\u001b[1;32m---> 17\u001b[1;33m             \u001b[0mrobot_position\u001b[0m \u001b[1;33m+=\u001b[0m \u001b[0mnp\u001b[0m\u001b[1;33m.\u001b[0m\u001b[0mrandom\u001b[0m\u001b[1;33m.\u001b[0m\u001b[0mchoice\u001b[0m\u001b[1;33m(\u001b[0m\u001b[0mrobot_mvmts\u001b[0m\u001b[1;33m,\u001b[0m \u001b[1;36m1\u001b[0m\u001b[1;33m,\u001b[0m\u001b[0mp\u001b[0m\u001b[1;33m=\u001b[0m\u001b[0mrobot_mvmt_probs\u001b[0m\u001b[1;33m)\u001b[0m\u001b[1;33m[\u001b[0m\u001b[1;36m0\u001b[0m\u001b[1;33m]\u001b[0m\u001b[1;33m\u001b[0m\u001b[1;33m\u001b[0m\u001b[0m\n\u001b[0m\u001b[0;32m     18\u001b[0m             \u001b[0mfly_position\u001b[0m \u001b[1;33m+=\u001b[0m  \u001b[0mnp\u001b[0m\u001b[1;33m.\u001b[0m\u001b[0mrandom\u001b[0m\u001b[1;33m.\u001b[0m\u001b[0mchoice\u001b[0m\u001b[1;33m(\u001b[0m\u001b[0mfly_mvmts\u001b[0m\u001b[1;33m,\u001b[0m \u001b[1;36m1\u001b[0m\u001b[1;33m,\u001b[0m\u001b[0mp\u001b[0m\u001b[1;33m=\u001b[0m\u001b[1;33m[\u001b[0m\u001b[0mp\u001b[0m\u001b[1;33m,\u001b[0m \u001b[1;36m1\u001b[0m\u001b[1;33m-\u001b[0m\u001b[1;36m2\u001b[0m\u001b[1;33m*\u001b[0m\u001b[0mp\u001b[0m\u001b[1;33m,\u001b[0m \u001b[0mp\u001b[0m\u001b[1;33m]\u001b[0m\u001b[1;33m)\u001b[0m\u001b[1;33m[\u001b[0m\u001b[1;36m0\u001b[0m\u001b[1;33m]\u001b[0m\u001b[1;33m\u001b[0m\u001b[1;33m\u001b[0m\u001b[0m\n\u001b[0;32m     19\u001b[0m             \u001b[0mtime_count\u001b[0m \u001b[1;33m+=\u001b[0m \u001b[1;36m1\u001b[0m\u001b[1;33m\u001b[0m\u001b[1;33m\u001b[0m\u001b[0m\n",
      "\u001b[1;31mKeyboardInterrupt\u001b[0m: "
     ]
    }
   ],
   "source": [
    "import numpy as np\n",
    "\n",
    "# Final Expected Values for p = 0.1 to .5\n",
    "final_exp_vals = []\n",
    "\n",
    "for p in [.1, .2, .3, .4, .5]:\n",
    "    bot_mvmts = np.array([0,1])\n",
    "    fly_mvmts = np.array([-1,0,1])\n",
    "    fly_mvmt_probs = np.array([p, 1-2*p, p])\n",
    "    bot_mvmt_probs = np.array([1-1.5*p, 1.5*p])\n",
    "    time_taken = []\n",
    "    \n",
    "    # Running Experiment for 10000 times, and averaging for expected values \n",
    "    for sim_count in range(10000):\n",
    "        time_count = 0\n",
    "        bot_position = 0\n",
    "        \n",
    "        # Randomly placing fly for d = 10 to d = 19\n",
    "        fly_position = np.random.choice(range(10,20))\n",
    "        while bot_position < fly_position:\n",
    "            bot_position += np.random.choice(bot_mvmts, 1,p=bot_mvmt_probs)[0]\n",
    "            fly_position +=  np.random.choice(fly_mvmts, 1,p=[p, 1-2*p, p])[0]\n",
    "            time_count += 1\n",
    "        time_taken.append(time_count)\n",
    "    final_exp_vals.append(sum(time_taken)/len(time_taken))"
   ]
  },
  {
   "cell_type": "code",
   "execution_count": 90,
   "metadata": {
    "scrolled": true
   },
   "outputs": [
    {
     "name": "stdout",
     "output_type": "stream",
     "text": [
      "7.2829\n",
      "6.8087\n",
      "6.2403\n"
     ]
    },
    {
     "ename": "KeyboardInterrupt",
     "evalue": "",
     "output_type": "error",
     "traceback": [
      "\u001b[1;31m---------------------------------------------------------------------------\u001b[0m",
      "\u001b[1;31mKeyboardInterrupt\u001b[0m                         Traceback (most recent call last)",
      "\u001b[1;32m<ipython-input-90-0a3e7a30d31e>\u001b[0m in \u001b[0;36m<module>\u001b[1;34m\u001b[0m\n\u001b[0;32m     12\u001b[0m         \u001b[1;32mwhile\u001b[0m \u001b[0mrobot_position\u001b[0m \u001b[1;33m<\u001b[0m \u001b[0mobj_position\u001b[0m\u001b[1;33m:\u001b[0m\u001b[1;33m\u001b[0m\u001b[1;33m\u001b[0m\u001b[0m\n\u001b[0;32m     13\u001b[0m             \u001b[0mrobot_position\u001b[0m \u001b[1;33m+=\u001b[0m \u001b[0mnp\u001b[0m\u001b[1;33m.\u001b[0m\u001b[0mrandom\u001b[0m\u001b[1;33m.\u001b[0m\u001b[0mchoice\u001b[0m\u001b[1;33m(\u001b[0m\u001b[0mrobot_mvmts\u001b[0m\u001b[1;33m,\u001b[0m \u001b[1;36m1\u001b[0m\u001b[1;33m,\u001b[0m\u001b[0mp\u001b[0m\u001b[1;33m=\u001b[0m\u001b[0mrobot_mvmt_probs\u001b[0m\u001b[1;33m)\u001b[0m\u001b[1;33m[\u001b[0m\u001b[1;36m0\u001b[0m\u001b[1;33m]\u001b[0m\u001b[1;33m\u001b[0m\u001b[1;33m\u001b[0m\u001b[0m\n\u001b[1;32m---> 14\u001b[1;33m             \u001b[0mobj_position\u001b[0m \u001b[1;33m+=\u001b[0m  \u001b[0mnp\u001b[0m\u001b[1;33m.\u001b[0m\u001b[0mrandom\u001b[0m\u001b[1;33m.\u001b[0m\u001b[0mchoice\u001b[0m\u001b[1;33m(\u001b[0m\u001b[0mobj_mvmts\u001b[0m\u001b[1;33m,\u001b[0m \u001b[1;36m1\u001b[0m\u001b[1;33m,\u001b[0m\u001b[0mp\u001b[0m\u001b[1;33m=\u001b[0m\u001b[1;33m[\u001b[0m\u001b[0mp_om\u001b[0m\u001b[1;33m,\u001b[0m \u001b[1;36m1\u001b[0m\u001b[1;33m-\u001b[0m\u001b[1;36m2\u001b[0m\u001b[1;33m*\u001b[0m\u001b[0mp_om\u001b[0m\u001b[1;33m,\u001b[0m \u001b[0mp_om\u001b[0m\u001b[1;33m]\u001b[0m\u001b[1;33m)\u001b[0m\u001b[1;33m[\u001b[0m\u001b[1;36m0\u001b[0m\u001b[1;33m]\u001b[0m\u001b[1;33m\u001b[0m\u001b[1;33m\u001b[0m\u001b[0m\n\u001b[0m\u001b[0;32m     15\u001b[0m             \u001b[0mtime_count\u001b[0m \u001b[1;33m+=\u001b[0m \u001b[1;36m1\u001b[0m\u001b[1;33m\u001b[0m\u001b[1;33m\u001b[0m\u001b[0m\n\u001b[0;32m     16\u001b[0m         \u001b[0mrobot_position\u001b[0m \u001b[1;33m=\u001b[0m \u001b[1;36m0\u001b[0m\u001b[1;33m\u001b[0m\u001b[1;33m\u001b[0m\u001b[0m\n",
      "\u001b[1;31mKeyboardInterrupt\u001b[0m: "
     ]
    }
   ],
   "source": [
    "base_res2 = []\n",
    "for p_om in np.linspace(.095, .495, 41):\n",
    "    robot_position = 0\n",
    "    obj_position = 1\n",
    "    robot_mvmts = np.array([0,1])\n",
    "    obj_mvmts = np.array([-1,0,1])\n",
    "    obj_mvmt_probs = np.array([p_om, (1-2*p_om), p_om])\n",
    "    robot_mvmt_probs = np.array([1-(1.5*p_om), 1.5*p_om])\n",
    "    stg_2_base_times = []\n",
    "    for sim_count in range(10000):\n",
    "        time_count = 0\n",
    "        while robot_position < obj_position:\n",
    "            robot_position += np.random.choice(robot_mvmts, 1,p=robot_mvmt_probs)[0]\n",
    "            obj_position +=  np.random.choice(obj_mvmts, 1,p=[p_om, 1-2*p_om, p_om])[0]\n",
    "            time_count += 1\n",
    "        robot_position = 0\n",
    "        obj_position = 1\n",
    "        stg_2_base_times.append(time_count)\n",
    "    base_res2.append(sum(stg_2_base_times)/len(stg_2_base_times))\n",
    "    print(sum(stg_2_base_times)/len(stg_2_base_times))\n",
    "#     table_results.append(['stg_2_base', p_om,sum(stg_2_base_times) ])\n"
   ]
  },
  {
   "cell_type": "code",
   "execution_count": 94,
   "metadata": {},
   "outputs": [],
   "source": [
    "x = np.linspace(.01, .05, 11).tolist() + np.linspace(.05,.1,21).tolist() + np.linspace(.1, .2, 11).tolist() + np.linspace(.2, .5, 31).tolist()"
   ]
  },
  {
   "cell_type": "code",
   "execution_count": 69,
   "metadata": {},
   "outputs": [
    {
     "name": "stdout",
     "output_type": "stream",
     "text": [
      "27.0288\n",
      "25.7932\n",
      "24.5297\n",
      "23.8139\n",
      "23.3019\n",
      "23.0928\n",
      "21.9586\n",
      "21.6803\n",
      "20.4833\n",
      "20.0055\n",
      "19.5697\n",
      "19.1728\n",
      "18.3417\n",
      "18.6477\n",
      "17.6051\n",
      "17.1382\n",
      "16.7781\n",
      "16.3506\n",
      "16.0741\n",
      "15.7288\n",
      "15.3315\n"
     ]
    }
   ],
   "source": [
    "base_res3 = []\n",
    "for p_om in np.linspace(.01, .05, 11):\n",
    "    robot_position = 0\n",
    "    obj_position = 1\n",
    "    robot_mvmts = np.array([0,1])\n",
    "    obj_mvmts = np.array([-1,0,1])\n",
    "    obj_mvmt_probs = np.array([p_om, (1-2*p_om), p_om])\n",
    "    robot_mvmt_probs = np.array([1-(1.5*p_om), 1.5*p_om])\n",
    "    stg_2_base_times = []\n",
    "    for sim_count in range(10000):\n",
    "        time_count = 0\n",
    "        while robot_position < obj_position: \n",
    "            robot_position += np.random.choice(robot_mvmts, 1,p=robot_mvmt_probs)[0]\n",
    "            obj_position +=  np.random.choice(obj_mvmts, 1,p=[p_om, 1-2*p_om, p_om])[0]\n",
    "            time_count += 1\n",
    "        robot_position = 0\n",
    "        obj_position = 1\n",
    "        stg_2_base_times.append(time_count)\n",
    "    base_res3.append(sum(stg_2_base_times)/len(stg_2_base_times))\n",
    "    print(sum(stg_2_base_times)/len(stg_2_base_times))\n",
    "#     table_results.append(['stg_2_base', p_om,sum(stg_2_base_times) ])\n"
   ]
  },
  {
   "cell_type": "code",
   "execution_count": 95,
   "metadata": {
    "scrolled": true
   },
   "outputs": [
    {
     "name": "stdout",
     "output_type": "stream",
     "text": [
      "69.0747\n",
      "48.2279\n",
      "36.6267\n",
      "30.7884\n",
      "26.3902\n",
      "22.4377\n",
      "20.2855\n",
      "17.9943\n",
      "16.2694\n",
      "14.7469\n",
      "13.6319\n",
      "13.8213\n",
      "12.7694\n",
      "12.2866\n",
      "12.1469\n",
      "11.4772\n",
      "11.1316\n",
      "10.8705\n",
      "10.3668\n",
      "9.8926\n",
      "9.7379\n",
      "9.4266\n",
      "9.0722\n",
      "8.8942\n",
      "8.507\n",
      "8.3322\n",
      "7.9229\n",
      "7.7295\n",
      "7.6295\n",
      "7.5155\n",
      "7.2607\n",
      "7.2382\n",
      "6.9738\n",
      "6.5332\n",
      "6.1498\n",
      "5.6042\n",
      "5.2891\n",
      "4.9328\n",
      "4.741\n",
      "4.3189\n",
      "4.1655\n",
      "4.0393\n",
      "3.8195\n",
      "3.8555\n",
      "3.7023\n",
      "3.5639\n",
      "3.3516\n",
      "3.3058\n",
      "3.2518\n",
      "3.1351\n",
      "3.045\n",
      "2.9414\n",
      "2.8791\n",
      "2.7802\n",
      "2.6724\n",
      "2.7146\n",
      "2.6092\n",
      "2.5835\n",
      "2.4877\n",
      "2.5182\n",
      "2.4437\n",
      "2.4232\n",
      "2.3257\n",
      "2.3302\n",
      "2.3272\n",
      "2.2493\n",
      "2.2536\n",
      "2.2515\n",
      "2.2847\n",
      "2.2104\n",
      "2.2543\n",
      "2.2212\n",
      "2.1942\n",
      "2.1669\n"
     ]
    }
   ],
   "source": [
    "base_res4 = []\n",
    "for p_om in x:\n",
    "    robot_position = 0\n",
    "    obj_position = 1\n",
    "    robot_mvmts = np.array([0,1])\n",
    "    obj_mvmts = np.array([-1,0,1])\n",
    "    obj_mvmt_probs = np.array([p_om, (1-2*p_om), p_om])\n",
    "    robot_mvmt_probs = np.array([1-(1.5*p_om), 1.5*p_om])\n",
    "    stg_2_base_times = []\n",
    "    for sim_count in range(10000):\n",
    "        time_count = 0\n",
    "        while robot_position < obj_position:\n",
    "            robot_position += np.random.choice(robot_mvmts, 1,p=robot_mvmt_probs)[0]\n",
    "            obj_position +=  np.random.choice(obj_mvmts, 1,p=[p_om, 1-2*p_om, p_om])[0]\n",
    "            time_count += 1\n",
    "        robot_position = 0\n",
    "        obj_position = 1\n",
    "        stg_2_base_times.append(time_count)\n",
    "    base_res4.append(sum(stg_2_base_times)/len(stg_2_base_times))\n",
    "    print(sum(stg_2_base_times)/len(stg_2_base_times))\n",
    "#     table_results.append(['stg_2_base', p_om,sum(stg_2_base_times) ])\n"
   ]
  },
  {
   "cell_type": "code",
   "execution_count": 113,
   "metadata": {},
   "outputs": [
    {
     "name": "stdout",
     "output_type": "stream",
     "text": [
      "7.07761\n",
      "3.8554\n",
      "2.78821\n",
      "2.34404\n",
      "2.18355\n"
     ]
    }
   ],
   "source": [
    "base_res = []\n",
    "for p_om in [.1,.2,.3,.4,.5]:\n",
    "    robot_position = 0\n",
    "    obj_position = 1\n",
    "    robot_mvmts = np.array([0,1])\n",
    "    obj_mvmts = np.array([-1,0,1])\n",
    "    obj_mvmt_probs = np.array([p_om, (1-2*p_om), p_om])\n",
    "    robot_mvmt_probs = np.array([1-(1.5*p_om), 1.5*p_om])\n",
    "    stg_2_base_times = []\n",
    "    for sim_count in range(100000):\n",
    "        time_count = 0\n",
    "        while robot_position < obj_position:\n",
    "            robot_position += np.random.choice(robot_mvmts, 1,p=robot_mvmt_probs)[0]\n",
    "            obj_position +=  np.random.choice(obj_mvmts, 1,p=[p_om, 1-2*p_om, p_om])[0]\n",
    "            time_count += 1\n",
    "        robot_position = 0\n",
    "        obj_position = 1\n",
    "        stg_2_base_times.append(time_count)\n",
    "    base_res.append(sum(stg_2_base_times)/len(stg_2_base_times))\n",
    "    print(sum(stg_2_base_times)/len(stg_2_base_times))\n",
    "#     table_results.append(['stg_2_base', p_om,sum(stg_2_base_times) ])\n"
   ]
  },
  {
   "cell_type": "code",
   "execution_count": 136,
   "metadata": {},
   "outputs": [
    {
     "name": "stdout",
     "output_type": "stream",
     "text": [
      "13.76862\n"
     ]
    }
   ],
   "source": [
    "# base_res = []\n",
    "# for p_om in [.1,.2,.3,.4,.5]:\n",
    "for p_om in [.1]:\n",
    "    robot_position = 0\n",
    "    obj_position = 2\n",
    "    robot_mvmts = np.array([0,1])\n",
    "    obj_mvmts = np.array([-1,0,1])\n",
    "    obj_mvmt_probs = np.array([p_om, (1-2*p_om), p_om])\n",
    "    robot_mvmt_probs = np.array([1-(1.5*p_om), 1.5*p_om])\n",
    "    stg_2_base_times = []\n",
    "    for sim_count in range(100000):\n",
    "        time_count = 0\n",
    "        while robot_position < obj_position:\n",
    "            robot_position += np.random.choice(robot_mvmts, 1,p=robot_mvmt_probs)[0]\n",
    "            obj_position +=  np.random.choice(obj_mvmts, 1,p=[p_om, 1-2*p_om, p_om])[0]\n",
    "            time_count += 1\n",
    "        robot_position = 0\n",
    "        obj_position = 2\n",
    "        stg_2_base_times.append(time_count)\n",
    "#     base_res.append(sum(stg_2_base_times)/len(stg_2_base_times))\n",
    "    print(sum(stg_2_base_times)/len(stg_2_base_times))\n",
    "#     table_results.append(['stg_2_base', p_om,sum(stg_2_base_times) ])\n"
   ]
  },
  {
   "cell_type": "code",
   "execution_count": 137,
   "metadata": {},
   "outputs": [
    {
     "name": "stdout",
     "output_type": "stream",
     "text": [
      "20.36227\n"
     ]
    }
   ],
   "source": [
    "# base_res = []\n",
    "# for p_om in [.1,.2,.3,.4,.5]:\n",
    "for p_om in [.1]:\n",
    "    robot_position = 0\n",
    "    obj_position = 2\n",
    "    robot_mvmts = np.array([0,1])\n",
    "    obj_mvmts = np.array([-1,0,1])\n",
    "    obj_mvmt_probs = np.array([p_om, (1-2*p_om), p_om])\n",
    "    robot_mvmt_probs = np.array([1-(1.5*p_om), 1.5*p_om])\n",
    "    stg_2_base_times = []\n",
    "    for sim_count in range(100000):\n",
    "        time_count = 0\n",
    "        while robot_position < obj_position:\n",
    "            robot_position += np.random.choice(robot_mvmts, 1,p=robot_mvmt_probs)[0]\n",
    "            obj_position +=  np.random.choice(obj_mvmts, 1,p=[p_om, 1-2*p_om, p_om])[0]\n",
    "            time_count += 1\n",
    "        robot_position = 0\n",
    "        obj_position = 3\n",
    "        stg_2_base_times.append(time_count)\n",
    "#     base_res.append(sum(stg_2_base_times)/len(stg_2_base_times))\n",
    "    print(sum(stg_2_base_times)/len(stg_2_base_times))\n",
    "#     table_results.append(['stg_2_base', p_om,sum(stg_2_base_times) ])\n"
   ]
  },
  {
   "cell_type": "code",
   "execution_count": 140,
   "metadata": {},
   "outputs": [
    {
     "ename": "KeyboardInterrupt",
     "evalue": "",
     "output_type": "error",
     "traceback": [
      "\u001b[1;31m---------------------------------------------------------------------------\u001b[0m",
      "\u001b[1;31mKeyboardInterrupt\u001b[0m                         Traceback (most recent call last)",
      "\u001b[1;32m<ipython-input-140-1d47c981b742>\u001b[0m in \u001b[0;36m<module>\u001b[1;34m\u001b[0m\n\u001b[0;32m     13\u001b[0m         \u001b[1;32mwhile\u001b[0m \u001b[0mrobot_position\u001b[0m \u001b[1;33m<\u001b[0m \u001b[0mobj_position\u001b[0m\u001b[1;33m:\u001b[0m\u001b[1;33m\u001b[0m\u001b[1;33m\u001b[0m\u001b[0m\n\u001b[0;32m     14\u001b[0m             \u001b[0mrobot_position\u001b[0m \u001b[1;33m+=\u001b[0m \u001b[0mnp\u001b[0m\u001b[1;33m.\u001b[0m\u001b[0mrandom\u001b[0m\u001b[1;33m.\u001b[0m\u001b[0mchoice\u001b[0m\u001b[1;33m(\u001b[0m\u001b[0mrobot_mvmts\u001b[0m\u001b[1;33m,\u001b[0m \u001b[1;36m1\u001b[0m\u001b[1;33m,\u001b[0m\u001b[0mp\u001b[0m\u001b[1;33m=\u001b[0m\u001b[0mrobot_mvmt_probs\u001b[0m\u001b[1;33m)\u001b[0m\u001b[1;33m[\u001b[0m\u001b[1;36m0\u001b[0m\u001b[1;33m]\u001b[0m\u001b[1;33m\u001b[0m\u001b[1;33m\u001b[0m\u001b[0m\n\u001b[1;32m---> 15\u001b[1;33m             \u001b[0mobj_position\u001b[0m \u001b[1;33m+=\u001b[0m  \u001b[0mnp\u001b[0m\u001b[1;33m.\u001b[0m\u001b[0mrandom\u001b[0m\u001b[1;33m.\u001b[0m\u001b[0mchoice\u001b[0m\u001b[1;33m(\u001b[0m\u001b[0mobj_mvmts\u001b[0m\u001b[1;33m,\u001b[0m \u001b[1;36m1\u001b[0m\u001b[1;33m,\u001b[0m\u001b[0mp\u001b[0m\u001b[1;33m=\u001b[0m\u001b[1;33m[\u001b[0m\u001b[0mp_om\u001b[0m\u001b[1;33m,\u001b[0m \u001b[1;36m1\u001b[0m\u001b[1;33m-\u001b[0m\u001b[1;36m2\u001b[0m\u001b[1;33m*\u001b[0m\u001b[0mp_om\u001b[0m\u001b[1;33m,\u001b[0m \u001b[0mp_om\u001b[0m\u001b[1;33m]\u001b[0m\u001b[1;33m)\u001b[0m\u001b[1;33m[\u001b[0m\u001b[1;36m0\u001b[0m\u001b[1;33m]\u001b[0m\u001b[1;33m\u001b[0m\u001b[1;33m\u001b[0m\u001b[0m\n\u001b[0m\u001b[0;32m     16\u001b[0m             \u001b[0mtime_count\u001b[0m \u001b[1;33m+=\u001b[0m \u001b[1;36m1\u001b[0m\u001b[1;33m\u001b[0m\u001b[1;33m\u001b[0m\u001b[0m\n\u001b[0;32m     17\u001b[0m         \u001b[0mrobot_position\u001b[0m \u001b[1;33m=\u001b[0m \u001b[1;36m0\u001b[0m\u001b[1;33m\u001b[0m\u001b[1;33m\u001b[0m\u001b[0m\n",
      "\u001b[1;31mKeyboardInterrupt\u001b[0m: "
     ]
    }
   ],
   "source": [
    "# base_res = []\n",
    "# for p_om in [.1,.2,.3,.4,.5]:\n",
    "for p_om in [.1]:\n",
    "    robot_position = 0\n",
    "    obj_position = 7\n",
    "    robot_mvmts = np.array([0,1])\n",
    "    obj_mvmts = np.array([-1,0,1])\n",
    "    obj_mvmt_probs = np.array([p_om, (1-2*p_om), p_om])\n",
    "    robot_mvmt_probs = np.array([1-(1.5*p_om), 1.5*p_om])\n",
    "    stg_2_base_times = []\n",
    "    for sim_count in range(100000):\n",
    "        time_count = 0\n",
    "        while robot_position < obj_position:\n",
    "            robot_position += np.random.choice(robot_mvmts, 1,p=robot_mvmt_probs)[0]\n",
    "            obj_position +=  np.random.choice(obj_mvmts, 1,p=[p_om, 1-2*p_om, p_om])[0]\n",
    "            time_count += 1\n",
    "        robot_position = 0\n",
    "        obj_position = 7\n",
    "        stg_2_base_times.append(time_count)\n",
    "#     base_res.append(sum(stg_2_base_times)/len(stg_2_base_times))\n",
    "    print(sum(stg_2_base_times)/len(stg_2_base_times))\n",
    "#     table_results.append(['stg_2_base', p_om,sum(stg_2_base_times) ])\n"
   ]
  },
  {
   "cell_type": "code",
   "execution_count": 120,
   "metadata": {},
   "outputs": [
    {
     "data": {
      "text/plain": [
       "1.8333333333333333"
      ]
     },
     "execution_count": 120,
     "metadata": {},
     "output_type": "execute_result"
    }
   ],
   "source": [
    "t_1 = .5\n",
    "(2/(3*t_1)) + .5"
   ]
  },
  {
   "cell_type": "code",
   "execution_count": 149,
   "metadata": {},
   "outputs": [
    {
     "data": {
      "text/plain": [
       "array([69.0747, 48.2279, 36.6267, 30.7884, 26.3902, 22.4377, 20.2855,\n",
       "       17.9943, 16.2694, 14.7469, 13.6319, 13.8213, 12.7694, 12.2866,\n",
       "       12.1469, 11.4772, 11.1316, 10.8705, 10.3668,  9.8926,  9.7379,\n",
       "        9.4266,  9.0722,  8.8942,  8.507 ,  8.3322,  7.9229,  7.7295,\n",
       "        7.6295,  7.5155,  7.2607,  7.2382,  6.9738,  6.5332,  6.1498,\n",
       "        5.6042,  5.2891,  4.9328,  4.741 ,  4.3189,  4.1655,  4.0393,\n",
       "        3.8195,  3.8555,  3.7023,  3.5639,  3.3516,  3.3058,  3.2518,\n",
       "        3.1351,  3.045 ,  2.9414,  2.8791,  2.7802,  2.6724,  2.7146,\n",
       "        2.6092,  2.5835,  2.4877,  2.5182,  2.4437,  2.4232,  2.3257,\n",
       "        2.3302,  2.3272,  2.2493,  2.2536,  2.2515,  2.2847,  2.2104,\n",
       "        2.2543,  2.2212,  2.1942,  2.1669])"
      ]
     },
     "execution_count": 149,
     "metadata": {},
     "output_type": "execute_result"
    }
   ],
   "source": [
    "y"
   ]
  },
  {
   "cell_type": "code",
   "execution_count": 99,
   "metadata": {},
   "outputs": [
    {
     "data": {
      "image/png": "[encoded data removed]",
      "text/plain": [
       "<Figure size 432x288 with 1 Axes>"
      ]
     },
     "metadata": {
      "needs_background": "light"
     },
     "output_type": "display_data"
    },
    {
     "data": {
      "text/plain": [
       "(0.6709997962925215, 0.49285147772241666)"
      ]
     },
     "execution_count": 99,
     "metadata": {},
     "output_type": "execute_result"
    }
   ],
   "source": [
    "# x = np.linspace(.1, .5, 41)\n",
    "# x = np.array([1/i for i in np.linspace(.05, .09, 21)])\n",
    "x_2 = np.array([1/i for i in x])\n",
    "y = np.array(base_res4)\n",
    "fit = np.polyfit(x_2, y, 1)\n",
    "a = fit[0]\n",
    "b = fit[1]\n",
    "# c = fit[2]\n",
    "# fit_equation = a * np.square(x) + b * x + c\n",
    "fit_equation = a*x_2 + b \n",
    "#Plotting\n",
    "fig1 = plt.figure()\n",
    "ax1 = fig1.subplots()\n",
    "ax1.plot(x_2, fit_equation,color = 'r',alpha = 0.5, label = 'Polynomial fit')\n",
    "ax1.scatter(x_2, y, s = 5, color = 'b', label = 'Data points')\n",
    "ax1.set_title('Polynomial fit example')\n",
    "ax1.legend()\n",
    "plt.show()\n",
    "a,b"
   ]
  },
  {
   "cell_type": "code",
   "execution_count": 151,
   "metadata": {},
   "outputs": [
    {
     "data": {
      "text/plain": [
       "array([0.01  , 0.014 , 0.018 , 0.022 , 0.026 , 0.03  , 0.034 , 0.038 ,\n",
       "       0.042 , 0.046 , 0.05  , 0.05  , 0.0525, 0.055 , 0.0575, 0.06  ,\n",
       "       0.0625, 0.065 , 0.0675, 0.07  , 0.0725, 0.075 , 0.0775, 0.08  ,\n",
       "       0.0825, 0.085 , 0.0875, 0.09  , 0.0925, 0.095 , 0.0975, 0.1   ,\n",
       "       0.1   , 0.11  , 0.12  , 0.13  , 0.14  , 0.15  , 0.16  , 0.17  ,\n",
       "       0.18  , 0.19  , 0.2   , 0.2   , 0.21  , 0.22  , 0.23  , 0.24  ,\n",
       "       0.25  , 0.26  , 0.27  , 0.28  , 0.29  , 0.3   , 0.31  , 0.32  ,\n",
       "       0.33  , 0.34  , 0.35  , 0.36  , 0.37  , 0.38  , 0.39  , 0.4   ,\n",
       "       0.41  , 0.42  , 0.43  , 0.44  , 0.45  , 0.46  , 0.47  , 0.48  ,\n",
       "       0.49  , 0.5   ])"
      ]
     },
     "execution_count": 151,
     "metadata": {},
     "output_type": "execute_result"
    }
   ],
   "source": [
    "x"
   ]
  },
  {
   "cell_type": "code",
   "execution_count": 485,
   "metadata": {},
   "outputs": [],
   "source": [
    "fit_2 = (1/(1.5*x*(1-x)))"
   ]
  },
  {
   "cell_type": "code",
   "execution_count": 486,
   "metadata": {},
   "outputs": [
    {
     "data": {
      "text/plain": [
       "array([69.0747, 48.2279, 36.6267, 30.7884, 26.3902, 22.4377, 20.2855,\n",
       "       17.9943, 16.2694, 14.7469, 13.6319, 13.8213, 12.7694, 12.2866,\n",
       "       12.1469, 11.4772, 11.1316, 10.8705, 10.3668,  9.8926,  9.7379,\n",
       "        9.4266,  9.0722,  8.8942,  8.507 ,  8.3322,  7.9229,  7.7295,\n",
       "        7.6295,  7.5155,  7.2607,  7.2382,  6.9738,  6.5332,  6.1498,\n",
       "        5.6042,  5.2891,  4.9328,  4.741 ,  4.3189,  4.1655,  4.0393,\n",
       "        3.8195,  3.8555,  3.7023,  3.5639,  3.3516,  3.3058,  3.2518,\n",
       "        3.1351,  3.045 ,  2.9414,  2.8791,  2.7802,  2.6724,  2.7146,\n",
       "        2.6092,  2.5835,  2.4877,  2.5182,  2.4437,  2.4232,  2.3257,\n",
       "        2.3302,  2.3272,  2.2493,  2.2536,  2.2515,  2.2847,  2.2104,\n",
       "        2.2543,  2.2212,  2.1942,  2.1669])"
      ]
     },
     "execution_count": 486,
     "metadata": {},
     "output_type": "execute_result"
    }
   ],
   "source": [
    "y"
   ]
  },
  {
   "cell_type": "code",
   "execution_count": 487,
   "metadata": {},
   "outputs": [
    {
     "data": {
      "text/plain": [
       "array([67.16666667, 48.11904762, 37.53703704, 30.8030303 , 26.14102564,\n",
       "       22.72222222, 20.10784314, 18.04385965, 16.37301587, 14.99275362,\n",
       "       13.83333333, 13.83333333, 13.1984127 , 12.62121212, 12.0942029 ,\n",
       "       11.61111111, 11.16666667, 10.75641026, 10.37654321, 10.02380952,\n",
       "        9.6954023 ,  9.38888889,  9.10215054,  8.83333333,  8.58080808,\n",
       "        8.34313725,  8.11904762,  7.90740741,  7.70720721,  7.51754386,\n",
       "        7.33760684,  7.16666667,  7.16666667,  6.56060606,  6.05555556,\n",
       "        5.62820513,  5.26190476,  4.94444444,  4.66666667,  4.42156863,\n",
       "        4.2037037 ,  4.00877193,  3.83333333,  3.83333333,  3.67460317,\n",
       "        3.53030303,  3.39855072,  3.27777778,  3.16666667,  3.06410256,\n",
       "        2.9691358 ,  2.88095238,  2.79885057,  2.72222222,  2.65053763,\n",
       "        2.58333333,  2.52020202,  2.46078431,  2.4047619 ,  2.35185185,\n",
       "        2.3018018 ,  2.25438596,  2.20940171,  2.16666667,  2.12601626,\n",
       "        2.08730159,  2.0503876 ,  2.01515152,  1.98148148,  1.94927536,\n",
       "        1.91843972,  1.88888889,  1.86054422,  1.83333333])"
      ]
     },
     "execution_count": 487,
     "metadata": {},
     "output_type": "execute_result"
    }
   ],
   "source": [
    "fit_equation"
   ]
  },
  {
   "cell_type": "code",
   "execution_count": 488,
   "metadata": {},
   "outputs": [
    {
     "data": {
      "text/plain": [
       "array([67.34006734, 48.29518014, 37.71592366, 30.98469356, 26.32548834,\n",
       "       22.90950745, 20.29797426, 18.23686034, 16.5689101 , 15.19156564,\n",
       "       14.03508772, 14.03508772, 13.40201868, 12.82667949, 12.30154154,\n",
       "       11.82033097, 11.37777778, 10.96942273, 10.59146725, 10.2406554 ,\n",
       "        9.91418038,  9.60960961,  9.32482443,  9.05797101,  8.80742025,\n",
       "        8.5717347 ,  8.34964123,  8.14000814,  7.94182612,  7.75419211,\n",
       "        7.57629566,  7.40740741,  7.40740741,  6.80966973,  6.31313131,\n",
       "        5.89448865,  5.53709856,  5.22875817,  4.96031746,  4.72478148,\n",
       "        4.51671183,  4.3318172 ,  4.16666667,  4.16666667,  4.01848503,\n",
       "        3.88500389,  3.76435159,  3.65497076,  3.55555556,  3.46500347,\n",
       "        3.38237781,  3.30687831,  3.23781771,  3.17460317,  3.11672121,\n",
       "        3.06372549,  3.0152269 ,  2.97088532,  2.93040293,  2.89351852,\n",
       "        2.86000286,  2.82965478,  2.80229788,  2.77777778,  2.75595976,\n",
       "        2.73672687,  2.71997824,  2.70562771,  2.69360269,  2.68384326,\n",
       "        2.67630135,  2.67094017,  2.66773376,  2.66666667])"
      ]
     },
     "execution_count": 488,
     "metadata": {},
     "output_type": "execute_result"
    }
   ],
   "source": [
    "fit_2"
   ]
  },
  {
   "cell_type": "code",
   "execution_count": 111,
   "metadata": {},
   "outputs": [
    {
     "data": {
      "image/png": "[encoded data removed]",
      "text/plain": [
       "<Figure size 432x288 with 1 Axes>"
      ]
     },
     "metadata": {
      "needs_background": "light"
     },
     "output_type": "display_data"
    },
    {
     "data": {
      "text/plain": [
       "(0.6666666666666666, 0.5)"
      ]
     },
     "execution_count": 111,
     "metadata": {},
     "output_type": "execute_result"
    }
   ],
   "source": [
    "a,b = 2/3,0.5\n",
    "fit_equation = a*x_2 + b\n",
    "fig1 = plt.figure()\n",
    "ax1 = fig1.subplots()\n",
    "ax1.plot(x, fit_equation,color = 'r',alpha = 0.5, label = 'Polynomial fit')\n",
    "ax1.scatter(x, y, s = 5, color = 'b', label = 'Data points')\n",
    "ax1.set_title('Polynomial fit example')\n",
    "ax1.legend()\n",
    "plt.show()\n",
    "a,b"
   ]
  },
  {
   "cell_type": "code",
   "execution_count": 169,
   "metadata": {},
   "outputs": [
    {
     "data": {
      "image/png": "[encoded data removed]",
      "text/plain": [
       "<Figure size 432x288 with 1 Axes>"
      ]
     },
     "metadata": {
      "needs_background": "light"
     },
     "output_type": "display_data"
    },
    {
     "data": {
      "text/plain": [
       "(0.6666666666666666, 0.5)"
      ]
     },
     "execution_count": 169,
     "metadata": {},
     "output_type": "execute_result"
    }
   ],
   "source": [
    "# a,b = 2/3,0.5\n",
    "# fit_equation = a*x_2 + b\n",
    "fig1 = plt.figure()\n",
    "ax1 = fig1.subplots()\n",
    "ax1.plot(x, fit_2,color = 'r',alpha = 0.5, label = 'Polynomial fit')\n",
    "ax1.scatter(x, y, s = 5, color = 'b', label = 'Data points')\n",
    "ax1.set_title('Polynomial fit example')\n",
    "ax1.legend()\n",
    "plt.show()\n",
    "a,b"
   ]
  },
  {
   "cell_type": "code",
   "execution_count": 479,
   "metadata": {},
   "outputs": [],
   "source": [
    "plt.rcParams.update({'font.size': 22})"
   ]
  },
  {
   "cell_type": "code",
   "execution_count": 482,
   "metadata": {},
   "outputs": [
    {
     "data": {
      "text/plain": [
       "array([69.0747, 48.2279, 36.6267, 30.7884, 26.3902, 22.4377, 20.2855,\n",
       "       17.9943, 16.2694, 14.7469, 13.6319, 13.8213, 12.7694, 12.2866,\n",
       "       12.1469, 11.4772, 11.1316, 10.8705, 10.3668,  9.8926,  9.7379,\n",
       "        9.4266,  9.0722,  8.8942,  8.507 ,  8.3322,  7.9229,  7.7295,\n",
       "        7.6295,  7.5155,  7.2607,  7.2382,  6.9738,  6.5332,  6.1498,\n",
       "        5.6042,  5.2891,  4.9328,  4.741 ,  4.3189,  4.1655,  4.0393,\n",
       "        3.8195,  3.8555,  3.7023,  3.5639,  3.3516,  3.3058,  3.2518,\n",
       "        3.1351,  3.045 ,  2.9414,  2.8791,  2.7802,  2.6724,  2.7146,\n",
       "        2.6092,  2.5835,  2.4877,  2.5182,  2.4437,  2.4232,  2.3257,\n",
       "        2.3302,  2.3272,  2.2493,  2.2536,  2.2515,  2.2847,  2.2104,\n",
       "        2.2543,  2.2212,  2.1942,  2.1669])"
      ]
     },
     "execution_count": 482,
     "metadata": {},
     "output_type": "execute_result"
    }
   ],
   "source": [
    "y"
   ]
  },
  {
   "cell_type": "code",
   "execution_count": 483,
   "metadata": {},
   "outputs": [
    {
     "data": {
      "text/plain": [
       "array([0.01  , 0.014 , 0.018 , 0.022 , 0.026 , 0.03  , 0.034 , 0.038 ,\n",
       "       0.042 , 0.046 , 0.05  , 0.05  , 0.0525, 0.055 , 0.0575, 0.06  ,\n",
       "       0.0625, 0.065 , 0.0675, 0.07  , 0.0725, 0.075 , 0.0775, 0.08  ,\n",
       "       0.0825, 0.085 , 0.0875, 0.09  , 0.0925, 0.095 , 0.0975, 0.1   ,\n",
       "       0.1   , 0.11  , 0.12  , 0.13  , 0.14  , 0.15  , 0.16  , 0.17  ,\n",
       "       0.18  , 0.19  , 0.2   , 0.2   , 0.21  , 0.22  , 0.23  , 0.24  ,\n",
       "       0.25  , 0.26  , 0.27  , 0.28  , 0.29  , 0.3   , 0.31  , 0.32  ,\n",
       "       0.33  , 0.34  , 0.35  , 0.36  , 0.37  , 0.38  , 0.39  , 0.4   ,\n",
       "       0.41  , 0.42  , 0.43  , 0.44  , 0.45  , 0.46  , 0.47  , 0.48  ,\n",
       "       0.49  , 0.5   ])"
      ]
     },
     "execution_count": 483,
     "metadata": {},
     "output_type": "execute_result"
    }
   ],
   "source": [
    "x"
   ]
  },
  {
   "cell_type": "code",
   "execution_count": 484,
   "metadata": {},
   "outputs": [
    {
     "data": {
      "text/plain": [
       "array([66.84006734, 47.79518014, 37.21592366, 30.48469356, 25.82548834,\n",
       "       22.40950745, 19.79797426, 17.73686034, 16.0689101 , 14.69156564,\n",
       "       13.53508772, 13.53508772, 12.90201868, 12.32667949, 11.80154154,\n",
       "       11.32033097, 10.87777778, 10.46942273, 10.09146725,  9.7406554 ,\n",
       "        9.41418038,  9.10960961,  8.82482443,  8.55797101,  8.30742025,\n",
       "        8.0717347 ,  7.84964123,  7.64000814,  7.44182612,  7.25419211,\n",
       "        7.07629566,  6.90740741,  6.90740741,  6.30966973,  5.81313131,\n",
       "        5.39448865,  5.03709856,  4.72875817,  4.46031746,  4.22478148,\n",
       "        4.01671183,  3.8318172 ,  3.66666667,  3.66666667,  3.51848503,\n",
       "        3.38500389,  3.26435159,  3.15497076,  3.05555556,  2.96500347,\n",
       "        2.88237781,  2.80687831,  2.73781771,  2.67460317,  2.61672121,\n",
       "        2.56372549,  2.5152269 ,  2.47088532,  2.43040293,  2.39351852,\n",
       "        2.36000286,  2.32965478,  2.30229788,  2.27777778,  2.25595976,\n",
       "        2.23672687,  2.21997824,  2.20562771,  2.19360269,  2.18384326,\n",
       "        2.17630135,  2.17094017,  2.16773376,  2.16666667])"
      ]
     },
     "execution_count": 484,
     "metadata": {},
     "output_type": "execute_result"
    }
   ],
   "source": [
    "fit_2"
   ]
  },
  {
   "cell_type": "code",
   "execution_count": 489,
   "metadata": {},
   "outputs": [
    {
     "data": {
      "image/png": "[encoded data removed]",
      "text/plain": [
       "<Figure size 864x648 with 1 Axes>"
      ]
     },
     "metadata": {
      "needs_background": "light"
     },
     "output_type": "display_data"
    },
    {
     "data": {
      "text/plain": [
       "(0.6666666666666666, 0.5)"
      ]
     },
     "execution_count": 489,
     "metadata": {},
     "output_type": "execute_result"
    }
   ],
   "source": [
    "# a,b = 2/3,0.5\n",
    "# fit_equation = a*x_2 + b\n",
    "fig1 = plt.figure(figsize=(12,9))\n",
    "ax1 = fig1.subplots()\n",
    "ax1.plot(x, fit_2,color = 'r',alpha = 0.5, label = 'E[1] = 1/1.5p(1-p)')\n",
    "ax1.scatter(x, y, s = 5, color = 'b', label = 'Simulated Data points for E[1]')\n",
    "ax1.set_title('Simulated vs Analytical approximations')\n",
    "ax1.set_xlabel('p')\n",
    "ax1.set_ylabel('E[1]')\n",
    "ax1.legend()\n",
    "plt.show()\n",
    "a,b"
   ]
  },
  {
   "cell_type": "code",
   "execution_count": 109,
   "metadata": {},
   "outputs": [
    {
     "data": {
      "text/plain": [
       "48.11904761904762"
      ]
     },
     "execution_count": 109,
     "metadata": {},
     "output_type": "execute_result"
    }
   ],
   "source": [
    "((2/3)*(1/0.014) ) + .5"
   ]
  },
  {
   "cell_type": "code",
   "execution_count": 70,
   "metadata": {},
   "outputs": [
    {
     "data": {
      "image/png": "[encoded data removed]",
      "text/plain": [
       "<Figure size 432x288 with 1 Axes>"
      ]
     },
     "metadata": {
      "needs_background": "light"
     },
     "output_type": "display_data"
    },
    {
     "data": {
      "text/plain": [
       "(1.2837644248954942, 1.1956032973068975)"
      ]
     },
     "execution_count": 70,
     "metadata": {},
     "output_type": "execute_result"
    }
   ],
   "source": [
    "# x = np.linspace(.1, .5, 41)\n",
    "x = np.array([1/i for i in np.linspace(.05, .09, 21)])\n",
    "y = np.array(base_res3)\n",
    "fit = np.polyfit(x, y, 1)\n",
    "a = fit[0]\n",
    "b = fit[1]\n",
    "# c = fit[2]\n",
    "# fit_equation = a * np.square(x) + b * x + c\n",
    "fit_equation = a*x + b \n",
    "#Plotting\n",
    "fig1 = plt.figure()\n",
    "ax1 = fig1.subplots()\n",
    "ax1.plot(x, fit_equation,color = 'r',alpha = 0.5, label = 'Polynomial fit')\n",
    "ax1.scatter(x, y, s = 5, color = 'b', label = 'Data points')\n",
    "ax1.set_title('Polynomial fit example')\n",
    "ax1.legend()\n",
    "plt.show()\n",
    "a,b"
   ]
  },
  {
   "cell_type": "code",
   "execution_count": 66,
   "metadata": {},
   "outputs": [
    {
     "data": {
      "image/png": "[encoded data removed]",
      "text/plain": [
       "<Figure size 432x288 with 1 Axes>"
      ]
     },
     "metadata": {
      "needs_background": "light"
     },
     "output_type": "display_data"
    },
    {
     "data": {
      "text/plain": [
       "(1.3430062105453104, 0.3735200551703775)"
      ]
     },
     "execution_count": 66,
     "metadata": {},
     "output_type": "execute_result"
    }
   ],
   "source": [
    "# x = np.linspace(.1, .5, 41)\n",
    "x = np.array([1/i for i in np.linspace(.1, .5, 41)])\n",
    "y = np.array(base_res)\n",
    "fit = np.polyfit(x, y, 1)\n",
    "a = fit[0]\n",
    "b = fit[1]\n",
    "# c = fit[2]\n",
    "# fit_equation = a * np.square(x) + b * x + c\n",
    "fit_equation = a*x + b \n",
    "#Plotting\n",
    "fig1 = plt.figure()\n",
    "ax1 = fig1.subplots()\n",
    "ax1.plot(x, fit_equation,color = 'r',alpha = 0.5, label = 'Polynomial fit')\n",
    "ax1.scatter(x, y, s = 5, color = 'b', label = 'Data points')\n",
    "ax1.set_title('Polynomial fit example')\n",
    "ax1.legend()\n",
    "plt.show()\n",
    "a,b"
   ]
  },
  {
   "cell_type": "code",
   "execution_count": null,
   "metadata": {},
   "outputs": [],
   "source": []
  },
  {
   "cell_type": "code",
   "execution_count": 64,
   "metadata": {},
   "outputs": [
    {
     "data": {
      "image/png": "[encoded data removed]",
      "text/plain": [
       "<Figure size 432x288 with 1 Axes>"
      ]
     },
     "metadata": {
      "needs_background": "light"
     },
     "output_type": "display_data"
    },
    {
     "data": {
      "text/plain": [
       "(1.3431697260996756, 0.37691884925629016)"
      ]
     },
     "execution_count": 64,
     "metadata": {},
     "output_type": "execute_result"
    }
   ],
   "source": [
    "# x = np.linspace(.1, .5, 41)\n",
    "x = np.array([1/i for i in np.linspace(.095, .495, 41)])\n",
    "y = np.array(base_res2)\n",
    "fit = np.polyfit(x, y, 1)\n",
    "a = fit[0]\n",
    "b = fit[1]\n",
    "# c = fit[2]\n",
    "# fit_equation = a * np.square(x) + b * x + c\n",
    "fit_equation = a*x + b \n",
    "#Plotting\n",
    "fig1 = plt.figure()\n",
    "ax1 = fig1.subplots()\n",
    "ax1.plot(x, fit_equation,color = 'r',alpha = 0.5, label = 'Polynomial fit')\n",
    "ax1.scatter(x, y, s = 5, color = 'b', label = 'Data points')\n",
    "ax1.set_title('Polynomial fit example')\n",
    "ax1.legend()\n",
    "plt.show()\n",
    "a,b"
   ]
  },
  {
   "cell_type": "code",
   "execution_count": 63,
   "metadata": {},
   "outputs": [
    {
     "data": {
      "text/plain": [
       "(1.3431697260996756, 0.37691884925629016)"
      ]
     },
     "execution_count": 63,
     "metadata": {},
     "output_type": "execute_result"
    }
   ],
   "source": []
  },
  {
   "cell_type": "code",
   "execution_count": 72,
   "metadata": {},
   "outputs": [],
   "source": [
    "a,b = 4/3, 0"
   ]
  },
  {
   "cell_type": "code",
   "execution_count": 75,
   "metadata": {},
   "outputs": [
    {
     "data": {
      "image/png": "[encoded data removed]",
      "text/plain": [
       "<Figure size 432x288 with 1 Axes>"
      ]
     },
     "metadata": {
      "needs_background": "light"
     },
     "output_type": "display_data"
    },
    {
     "data": {
      "text/plain": [
       "(1.3333333333333333, 0)"
      ]
     },
     "execution_count": 75,
     "metadata": {},
     "output_type": "execute_result"
    }
   ],
   "source": [
    "fit_equation = a*x + b \n",
    "#Plotting\n",
    "fig1 = plt.figure()\n",
    "ax1 = fig1.subplots()\n",
    "ax1.plot(x, fit_equation,color = 'r',alpha = 0.5, label = 'Polynomial fit')\n",
    "ax1.scatter(x, y, s = 5, color = 'b', label = 'Data points')\n",
    "ax1.set_title('Polynomial fit example')\n",
    "ax1.legend()\n",
    "plt.show()\n",
    "a,b"
   ]
  },
  {
   "cell_type": "markdown",
   "metadata": {},
   "source": [
    "## RECURSION (using for loop instead with iterative n)"
   ]
  },
  {
   "cell_type": "code",
   "execution_count": 366,
   "metadata": {},
   "outputs": [],
   "source": [
    "rec_results = pd.DataFrame()"
   ]
  },
  {
   "cell_type": "code",
   "execution_count": 364,
   "metadata": {},
   "outputs": [
    {
     "name": "stdout",
     "output_type": "stream",
     "text": [
      "14.59999999999742\n",
      "14.699999984741225\n",
      "14.79999561104987\n",
      "14.89959102076986\n",
      "15.000000000000002\n"
     ]
    }
   ],
   "source": [
    "# Strategy 1\n",
    "stg_1_anly = []\n",
    "for p_om in [.1,.2,.3,.4,.5]:\n",
    "    exp_val_1 = [1/(1-p_om), (2-3*p_om)/((1-p_om)*(1-p_om))]\n",
    "#     exp_val_1 = [1.11, 2,3.1]\n",
    "\n",
    "    for n in range(3,20):\n",
    "        e_t = (p_om + (1-2*p_om)*(1+ exp_val_1[-1]) + p_om*(1+ exp_val_1[-2]))/(1-p_om)\n",
    "        exp_val_1.append(e_t)\n",
    "\n",
    "    expected_total = 0\n",
    "    for d in range(10,20):\n",
    "        expected_total += 0.1* exp_val_1[d-1]\n",
    "    stg_1_anly.append(['Stg_1',p_om,expected_total])\n",
    "    print(expected_total)"
   ]
  },
  {
   "cell_type": "code",
   "execution_count": 406,
   "metadata": {},
   "outputs": [],
   "source": [
    "pd.DataFrame(stg_1_anly, columns= ['ST','P_om', 'Expected Value']).to_clipboard()"
   ]
  },
  {
   "cell_type": "code",
   "execution_count": 133,
   "metadata": {},
   "outputs": [
    {
     "data": {
      "text/plain": [
       "[1.1111111111111112,\n",
       " 2.0987654320987654,\n",
       " 3.1001371742112487,\n",
       " 4.099984758420973,\n",
       " 5.100001693508781,\n",
       " 6.099999811832357,\n",
       " 7.100000020907515,\n",
       " 8.099999997676942,\n",
       " 9.100000000258119,\n",
       " 10.099999999971319,\n",
       " 11.100000000003186,\n",
       " 12.099999999999646,\n",
       " 13.10000000000004,\n",
       " 14.099999999999998,\n",
       " 15.100000000000001,\n",
       " 16.1,\n",
       " 17.1,\n",
       " 18.1,\n",
       " 19.1]"
      ]
     },
     "execution_count": 133,
     "metadata": {},
     "output_type": "execute_result"
    }
   ],
   "source": [
    "exp_val_1"
   ]
  },
  {
   "cell_type": "code",
   "execution_count": 146,
   "metadata": {},
   "outputs": [
    {
     "name": "stdout",
     "output_type": "stream",
     "text": [
      "75.0\n",
      "37.5\n",
      "25.0\n",
      "18.75\n",
      "15.000000000000002\n"
     ]
    }
   ],
   "source": [
    "# Strategy 3\n",
    "# p_om = 0.1\n",
    "for p_om in [.1,.2,.3,.4,.5]:\n",
    "    exp_val_3 = [1/(p_om), 1/(p_om) ]\n",
    "    for n in range(3,20):\n",
    "        e_t = (1 + (p_om)*(exp_val_3[-2]))/(p_om)\n",
    "        exp_val_3.append(e_t)\n",
    "\n",
    "    expected_total = 0\n",
    "    for d in range(10,20):\n",
    "        expected_total += 0.1*exp_val_3[d-1]\n",
    "\n",
    "    print(expected_total)"
   ]
  },
  {
   "cell_type": "code",
   "execution_count": 358,
   "metadata": {},
   "outputs": [
    {
     "data": {
      "text/plain": [
       "0.3"
      ]
     },
     "execution_count": 358,
     "metadata": {},
     "output_type": "execute_result"
    }
   ],
   "source": [
    "9/30"
   ]
  },
  {
   "cell_type": "code",
   "execution_count": 468,
   "metadata": {},
   "outputs": [
    {
     "name": "stdout",
     "output_type": "stream",
     "text": [
      "24.651172799029073\n"
     ]
    }
   ],
   "source": [
    "for n,p_om in enumerate([.1,.2,.3,.4,.5]):\n",
    "    q_m = 1.5 * p_om\n",
    "    e1 = 1/(q_m*(1-p_om)) - p_error_terms[]\n",
    "    # e1 = 2.3497542908541056\n",
    "\n",
    "    # e1 = 1/(q_m*(1-p_om)) -(9/31)\n",
    "\n",
    "    e2 = (1 +(3*p_om*q_m - 2*p_om -q_m)*e1)/(p_om*(q_m-1)) \n",
    "    e3 = (1 +(3*p_om*q_m - 2*p_om -q_m)*e2 + (p_om + q_m -3*p_om*q_m)*e1)/(p_om*(q_m-1))\n",
    "    e1,e2,e3\n",
    "\n",
    "    # Strategy 2\n",
    "    #     p_om = 0.1\n",
    "    #     q_m = 1.5 * p_om\n",
    "    exp_val_2 = [e1,e2,e3]\n",
    "    for n in range(4,50):\n",
    "        e_t = (1 +(3*p_om*q_m - 2*p_om - q_m)*exp_val_2[-1] + (p_om + q_m -3*p_om*q_m)*exp_val_2[-2] + (p_om*q_m)*exp_val_2[-3])/(p_om*(q_m-1))\n",
    "        exp_val_2.append(e_t)\n",
    "\n",
    "    expected_total = 0\n",
    "    for d in range(10,20):\n",
    "        expected_total += 0.1* exp_val_2[d-1]\n",
    "\n",
    "    print(expected_total)"
   ]
  },
  {
   "cell_type": "code",
   "execution_count": 467,
   "metadata": {},
   "outputs": [
    {
     "data": {
      "text/plain": [
       "(2.3497542908541056, 3.736455736129949, 5.5178668695576)"
      ]
     },
     "execution_count": 467,
     "metadata": {},
     "output_type": "execute_result"
    }
   ],
   "source": [
    "e1,e2,e3\n"
   ]
  },
  {
   "cell_type": "code",
   "execution_count": 374,
   "metadata": {},
   "outputs": [
    {
     "data": {
      "text/plain": [
       "7.407407407407406"
      ]
     },
     "execution_count": 374,
     "metadata": {},
     "output_type": "execute_result"
    }
   ],
   "source": [
    "1/(q_m*(1-p_om))"
   ]
  },
  {
   "cell_type": "code",
   "execution_count": 377,
   "metadata": {},
   "outputs": [
    {
     "data": {
      "text/plain": [
       "[9, 8, 7, 6, 5, 4, 3, 2, 1, 0]"
      ]
     },
     "execution_count": 377,
     "metadata": {},
     "output_type": "execute_result"
    }
   ],
   "source": [
    "list(range(9,-1,-1))"
   ]
  },
  {
   "cell_type": "code",
   "execution_count": 446,
   "metadata": {
    "scrolled": true
   },
   "outputs": [],
   "source": [
    "p_set_1 = [.0000000001] + np.linspace(.0001,0.001,10).tolist() + np.linspace(.001,0.01,16).tolist()[1:] + np.linspace(.01,0.4,81).tolist()[1:] + np.linspace(.4,0.5,101).tolist()[1:] "
   ]
  },
  {
   "cell_type": "code",
   "execution_count": 447,
   "metadata": {},
   "outputs": [
    {
     "data": {
      "text/plain": [
       "[1e-10,\n",
       " 0.0001,\n",
       " 0.00019999999999999998,\n",
       " 0.0003,\n",
       " 0.00039999999999999996,\n",
       " 0.0005,\n",
       " 0.0006000000000000001,\n",
       " 0.0007,\n",
       " 0.0007999999999999999,\n",
       " 0.0009,\n",
       " 0.001,\n",
       " 0.0016,\n",
       " 0.0022,\n",
       " 0.0028000000000000004,\n",
       " 0.0034000000000000002,\n",
       " 0.004,\n",
       " 0.0046,\n",
       " 0.005200000000000001,\n",
       " 0.0058000000000000005,\n",
       " 0.0064,\n",
       " 0.007,\n",
       " 0.007600000000000001,\n",
       " 0.0082,\n",
       " 0.0088,\n",
       " 0.009400000000000002,\n",
       " 0.01,\n",
       " 0.014875,\n",
       " 0.01975,\n",
       " 0.024625,\n",
       " 0.0295,\n",
       " 0.034375,\n",
       " 0.03925,\n",
       " 0.044125000000000004,\n",
       " 0.049,\n",
       " 0.053875,\n",
       " 0.058750000000000004,\n",
       " 0.063625,\n",
       " 0.06849999999999999,\n",
       " 0.073375,\n",
       " 0.07825,\n",
       " 0.08312499999999999,\n",
       " 0.088,\n",
       " 0.092875,\n",
       " 0.09774999999999999,\n",
       " 0.102625,\n",
       " 0.1075,\n",
       " 0.11237499999999999,\n",
       " 0.11725,\n",
       " 0.122125,\n",
       " 0.127,\n",
       " 0.131875,\n",
       " 0.13675,\n",
       " 0.141625,\n",
       " 0.14650000000000002,\n",
       " 0.151375,\n",
       " 0.15625,\n",
       " 0.16112500000000002,\n",
       " 0.166,\n",
       " 0.170875,\n",
       " 0.17575000000000002,\n",
       " 0.180625,\n",
       " 0.1855,\n",
       " 0.19037500000000002,\n",
       " 0.19525,\n",
       " 0.200125,\n",
       " 0.20500000000000002,\n",
       " 0.209875,\n",
       " 0.21475,\n",
       " 0.21962500000000001,\n",
       " 0.2245,\n",
       " 0.229375,\n",
       " 0.23425,\n",
       " 0.239125,\n",
       " 0.244,\n",
       " 0.248875,\n",
       " 0.25375,\n",
       " 0.258625,\n",
       " 0.2635,\n",
       " 0.26837500000000003,\n",
       " 0.27325,\n",
       " 0.278125,\n",
       " 0.28300000000000003,\n",
       " 0.287875,\n",
       " 0.29275,\n",
       " 0.29762500000000003,\n",
       " 0.3025,\n",
       " 0.307375,\n",
       " 0.31225,\n",
       " 0.317125,\n",
       " 0.322,\n",
       " 0.326875,\n",
       " 0.33175,\n",
       " 0.336625,\n",
       " 0.3415,\n",
       " 0.346375,\n",
       " 0.35125,\n",
       " 0.356125,\n",
       " 0.361,\n",
       " 0.365875,\n",
       " 0.37075,\n",
       " 0.375625,\n",
       " 0.3805,\n",
       " 0.385375,\n",
       " 0.39025,\n",
       " 0.395125,\n",
       " 0.4,\n",
       " 0.401,\n",
       " 0.402,\n",
       " 0.403,\n",
       " 0.404,\n",
       " 0.405,\n",
       " 0.406,\n",
       " 0.40700000000000003,\n",
       " 0.40800000000000003,\n",
       " 0.40900000000000003,\n",
       " 0.41000000000000003,\n",
       " 0.41100000000000003,\n",
       " 0.41200000000000003,\n",
       " 0.41300000000000003,\n",
       " 0.41400000000000003,\n",
       " 0.41500000000000004,\n",
       " 0.41600000000000004,\n",
       " 0.41700000000000004,\n",
       " 0.41800000000000004,\n",
       " 0.41900000000000004,\n",
       " 0.42000000000000004,\n",
       " 0.42100000000000004,\n",
       " 0.42200000000000004,\n",
       " 0.42300000000000004,\n",
       " 0.42400000000000004,\n",
       " 0.42500000000000004,\n",
       " 0.42600000000000005,\n",
       " 0.42700000000000005,\n",
       " 0.428,\n",
       " 0.429,\n",
       " 0.43,\n",
       " 0.431,\n",
       " 0.432,\n",
       " 0.433,\n",
       " 0.434,\n",
       " 0.435,\n",
       " 0.436,\n",
       " 0.437,\n",
       " 0.438,\n",
       " 0.439,\n",
       " 0.44,\n",
       " 0.441,\n",
       " 0.442,\n",
       " 0.443,\n",
       " 0.444,\n",
       " 0.445,\n",
       " 0.446,\n",
       " 0.447,\n",
       " 0.448,\n",
       " 0.449,\n",
       " 0.45,\n",
       " 0.451,\n",
       " 0.452,\n",
       " 0.453,\n",
       " 0.454,\n",
       " 0.455,\n",
       " 0.456,\n",
       " 0.457,\n",
       " 0.458,\n",
       " 0.459,\n",
       " 0.46,\n",
       " 0.461,\n",
       " 0.462,\n",
       " 0.463,\n",
       " 0.464,\n",
       " 0.465,\n",
       " 0.466,\n",
       " 0.467,\n",
       " 0.468,\n",
       " 0.46900000000000003,\n",
       " 0.47000000000000003,\n",
       " 0.471,\n",
       " 0.472,\n",
       " 0.473,\n",
       " 0.474,\n",
       " 0.475,\n",
       " 0.476,\n",
       " 0.477,\n",
       " 0.478,\n",
       " 0.479,\n",
       " 0.48,\n",
       " 0.481,\n",
       " 0.482,\n",
       " 0.483,\n",
       " 0.484,\n",
       " 0.485,\n",
       " 0.486,\n",
       " 0.487,\n",
       " 0.488,\n",
       " 0.489,\n",
       " 0.49,\n",
       " 0.491,\n",
       " 0.492,\n",
       " 0.493,\n",
       " 0.494,\n",
       " 0.495,\n",
       " 0.496,\n",
       " 0.497,\n",
       " 0.498,\n",
       " 0.499,\n",
       " 0.5]"
      ]
     },
     "execution_count": 447,
     "metadata": {},
     "output_type": "execute_result"
    }
   ],
   "source": [
    "p_set_1"
   ]
  },
  {
   "cell_type": "code",
   "execution_count": 494,
   "metadata": {
    "scrolled": true
   },
   "outputs": [],
   "source": [
    "p_error_terms = []\n",
    "for p_om in np.linspace(.00001,.66666, 1000):\n",
    "    q_m = 1.5*p_om\n",
    "    error_term = 0\n",
    "    for nth_place in range(1,20):\n",
    "        next_it = True\n",
    "        for var_term in range(9,-1,-1):\n",
    "            if next_it:\n",
    "                e1 = 1/(q_m*(1-p_om)) - (error_term + var_term/(10**(nth_place)))\n",
    "                e2 = (1 +(3*p_om*q_m - 2*p_om -q_m)*e1)/(p_om*(q_m-1))\n",
    "                e3 = (1 +(3*p_om*q_m - 2*p_om -q_m)*e2 + \\\n",
    "                      (p_om + q_m -3*p_om*q_m)*e1)/(p_om*(q_m-1))\n",
    "                exp_val_2 = [e1,e2,e3]\n",
    "                for n in range(4,50):\n",
    "                    e_t = (1 +(3*p_om*q_m - 2*p_om - q_m)*exp_val_2[-1] \\\n",
    "                           + (p_om + q_m -3*p_om*q_m)*exp_val_2[-2] \\\n",
    "                           + (p_om*q_m)*exp_val_2[-3])/(p_om*(q_m-1))\n",
    "                    exp_val_2.append(e_t)\n",
    "                if exp_val_2[-1] > 0:\n",
    "                    error_term += var_term/(10**(nth_place))\n",
    "                    next_it = False\n",
    "    p_error_terms.append(error_term)"
   ]
  },
  {
   "cell_type": "code",
   "execution_count": 496,
   "metadata": {},
   "outputs": [
    {
     "data": {
      "text/plain": [
       "<matplotlib.collections.PathCollection at 0x2ad3f07d188>"
      ]
     },
     "execution_count": 496,
     "metadata": {},
     "output_type": "execute_result"
    },
    {
     "data": {
      "image/png": "[encoded data removed]",
      "text/plain": [
       "<Figure size 864x648 with 1 Axes>"
      ]
     },
     "metadata": {
      "needs_background": "light"
     },
     "output_type": "display_data"
    }
   ],
   "source": [
    "plt.figure(figsize=(12,9))\n",
    "plt.xlabel('p')\n",
    "plt.ylabel('error term')\n",
    "plt.scatter(x = np.linspace(.00001,.66666, 1000), y= p_error_terms, s = 5)"
   ]
  },
  {
   "cell_type": "code",
   "execution_count": 404,
   "metadata": {},
   "outputs": [
    {
     "data": {
      "text/plain": [
       "0.29757720645024804"
      ]
     },
     "execution_count": 404,
     "metadata": {},
     "output_type": "execute_result"
    }
   ],
   "source": [
    "error_term"
   ]
  },
  {
   "cell_type": "code",
   "execution_count": 462,
   "metadata": {},
   "outputs": [
    {
     "data": {
      "text/plain": [
       "0.47804502324342407"
      ]
     },
     "execution_count": 462,
     "metadata": {},
     "output_type": "execute_result"
    }
   ],
   "source": [
    "max(p_error_terms)"
   ]
  },
  {
   "cell_type": "code",
   "execution_count": null,
   "metadata": {},
   "outputs": [],
   "source": []
  }
 ],
 "metadata": {
  "kernelspec": {
   "display_name": "Python 3",
   "language": "python",
   "name": "python3"
  },
  "language_info": {
   "codemirror_mode": {
    "name": "ipython",
    "version": 3
   },
   "file_extension": ".py",
   "mimetype": "text/x-python",
   "name": "python",
   "nbconvert_exporter": "python",
   "pygments_lexer": "ipython3",
   "version": "3.7.5"
  }
 },
 "nbformat": 4,
 "nbformat_minor": 2
}
